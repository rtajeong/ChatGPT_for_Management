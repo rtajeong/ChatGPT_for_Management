{
  "nbformat": 4,
  "nbformat_minor": 0,
  "metadata": {
    "colab": {
      "provenance": [],
      "authorship_tag": "ABX9TyPvtXH6GXAvCGSpz7/et2mb",
      "include_colab_link": true
    },
    "kernelspec": {
      "name": "python3",
      "display_name": "Python 3"
    },
    "language_info": {
      "name": "python"
    }
  },
  "cells": [
    {
      "cell_type": "markdown",
      "metadata": {
        "id": "view-in-github",
        "colab_type": "text"
      },
      "source": [
        "<a href=\"https://colab.research.google.com/github/rtajeong/ChatGPT_for_Management/blob/main/8_making_excel_using_gpt.ipynb\" target=\"_parent\"><img src=\"https://colab.research.google.com/assets/colab-badge.svg\" alt=\"Open In Colab\"/></a>"
      ]
    },
    {
      "cell_type": "markdown",
      "source": [
        "# 엑셀 파일을 만들기 위한 GPT\n",
        "- 경영학과 학생을 위한 응용 예"
      ],
      "metadata": {
        "id": "JwkuF2hTS0E_"
      }
    },
    {
      "cell_type": "markdown",
      "source": [
        "## 예제 1: 월간 매출 보고서 생성\n",
        "- 매달 제품별 매출 데이터를 엑셀로 정리하고 보고서를 작성해야 한다고 가정한다.\n",
        "- GPT 도움: GPT를 사용해 자동으로 데이터를 엑셀에 정리하고, 총 매출을 계산하며 간단한 서식을 적용한다.\n",
        "- 라이브러리 'openpyxl' 사용"
      ],
      "metadata": {
        "id": "-Rlna9KecQLN"
      }
    },
    {
      "cell_type": "code",
      "source": [
        "from openpyxl import Workbook\n",
        "from openpyxl.styles import Font\n",
        "\n",
        "# 새로운 엑셀 파일 생성\n",
        "workbook = Workbook()\n",
        "sheet = workbook.active\n",
        "sheet.title = \"월간 매출 보고서\"\n",
        "\n",
        "# 헤더 추가\n",
        "headers = [\"제품명\", \"1월 매출\", \"2월 매출\", \"3월 매출\", \"총 매출\"]\n",
        "sheet.append(headers)\n",
        "\n",
        "# 데이터 추가\n",
        "data = [\n",
        "    [\"제품 A\", 1200, 1500, 1300],\n",
        "    [\"제품 B\", 1800, 1700, 2000],\n",
        "    [\"제품 C\", 1100, 1400, 1350]\n",
        "]\n",
        "for row in data:\n",
        "    total_sales = sum(row[1:])  # 총 매출 계산\n",
        "    sheet.append(row + [total_sales])\n",
        "\n",
        "# 헤더를 굵게 표시\n",
        "for col in range(1, len(headers) + 1):\n",
        "    sheet.cell(row=1, column=col).font = Font(bold=True)\n",
        "\n",
        "# 파일 저장\n",
        "workbook.save(\"monthly_sales_report.xlsx\")\n",
        "print(\"엑셀 파일 'monthly_sales_report.xlsx' 생성 완료!\")\n"
      ],
      "metadata": {
        "colab": {
          "base_uri": "https://localhost:8080/"
        },
        "id": "V9LQ9D8bcfRB",
        "outputId": "f9c9d0be-9f62-4363-8a43-c213abe6df4d"
      },
      "execution_count": 1,
      "outputs": [
        {
          "output_type": "stream",
          "name": "stdout",
          "text": [
            "엑셀 파일 'monthly_sales_report.xlsx' 생성 완료!\n"
          ]
        }
      ]
    },
    {
      "cell_type": "markdown",
      "source": [
        "## 예제 2: 예산 관리 파일 자동 생성\n",
        "- 상황: 월별 예산과 실제 사용 금액을 비교해 변동 폭을 기록해야 한다고 가정한다.\n",
        "- GPT의 도움: GPT는 데이터를 정리하고 변동 폭을 계산해 엑셀 파일로 저장한다.\n"
      ],
      "metadata": {
        "id": "Ree3SwrndjN9"
      }
    },
    {
      "cell_type": "code",
      "source": [
        "from openpyxl import Workbook\n",
        "\n",
        "# 엑셀 파일 생성\n",
        "workbook = Workbook()\n",
        "sheet = workbook.active\n",
        "sheet.title = \"예산 관리\"\n",
        "\n",
        "# 헤더 추가\n",
        "sheet.append([\"월\", \"예산 (만원)\", \"실제 사용 (만원)\", \"변동 폭 (만원)\"])\n",
        "\n",
        "# 데이터 추가\n",
        "data = [\n",
        "    [\"1월\", 200, 195],\n",
        "    [\"2월\", 250, 240],\n",
        "    [\"3월\", 300, 310],\n",
        "]\n",
        "for row in data:\n",
        "    variance = row[1] - row[2]  # 변동 폭 계산\n",
        "    sheet.append(row + [variance])\n",
        "\n",
        "# 파일 저장\n",
        "workbook.save(\"budget_management.xlsx\")\n",
        "print(\"엑셀 파일 'budget_management.xlsx' 생성 완료!\")\n"
      ],
      "metadata": {
        "colab": {
          "base_uri": "https://localhost:8080/"
        },
        "id": "yF-odlibdx_B",
        "outputId": "0129daef-877c-4938-8329-9c6630257b8d"
      },
      "execution_count": 2,
      "outputs": [
        {
          "output_type": "stream",
          "name": "stdout",
          "text": [
            "엑셀 파일 'budget_management.xlsx' 생성 완료!\n"
          ]
        }
      ]
    },
    {
      "cell_type": "markdown",
      "source": [
        "## 예제 3: 프로젝트 일정 관리 파일 생성\n",
        "- 상황: 프로젝트별 일정과 상태를 기록해야 한다고 가정한다.\n",
        "- GPT의 도움: GPT는 팀에서 사용할 수 있는 일정 관리 파일을 생성해 준다."
      ],
      "metadata": {
        "id": "p4pQjOUBeRsq"
      }
    },
    {
      "cell_type": "code",
      "source": [
        "from openpyxl import Workbook\n",
        "\n",
        "# 엑셀 파일 생성\n",
        "workbook = Workbook()\n",
        "sheet = workbook.active\n",
        "sheet.title = \"프로젝트 일정 관리\"\n",
        "\n",
        "# 헤더 추가\n",
        "sheet.append([\"프로젝트명\", \"시작일\", \"종료일\", \"상태\"])\n",
        "\n",
        "# 데이터 추가\n",
        "sheet.append([\"프로젝트 A\", \"2024-01-01\", \"2024-02-28\", \"진행 중\"])\n",
        "sheet.append([\"프로젝트 B\", \"2024-02-01\", \"2024-04-30\", \"계획 중\"])\n",
        "sheet.append([\"프로젝트 C\", \"2024-03-01\", \"2024-06-30\", \"완료\"])\n",
        "\n",
        "# 파일 저장\n",
        "workbook.save(\"project_schedule.xlsx\")\n",
        "print(\"엑셀 파일 'project_schedule.xlsx' 생성 완료!\")\n"
      ],
      "metadata": {
        "colab": {
          "base_uri": "https://localhost:8080/"
        },
        "id": "u8gQmJN7ee4P",
        "outputId": "e306e99c-27e5-47e7-af5f-3f8cb6946b27"
      },
      "execution_count": 3,
      "outputs": [
        {
          "output_type": "stream",
          "name": "stdout",
          "text": [
            "엑셀 파일 'project_schedule.xlsx' 생성 완료!\n"
          ]
        }
      ]
    },
    {
      "cell_type": "markdown",
      "source": [
        "## 예제 4: 대량 데이터 처리 및 피벗 테이블 생성\n",
        "- 상황: 수천 개의 거래 데이터를 분석하여 월별, 카테고리별 매출 합계를 자동으로 요약해야 한다.\n",
        "- Excel 파일을 생성하고 수정할 수 있는 도구\n",
        "  - openpyxl:\n",
        "    - 엑셀(.xlsx) 파일을 직접 생성, 읽기, 수정할 수 있는 라이브러리.\n",
        "    - 엑셀의 서식, 도형, 차트, 조건부 서식 등을 자유롭게 조작 가능.\n",
        "  - pandas.ExcelWriter():\n",
        "    - 데이터프레임(DataFrame)을 엑셀로 저장할 때 사용\n",
        "    - 여러 sheet에 데이터 저장\n",
        "    - openpyxl을 엔진으로 사용할 경우 기존 파일 수정 가능"
      ],
      "metadata": {
        "id": "r9oZAy--fmcH"
      }
    },
    {
      "cell_type": "code",
      "source": [
        "import pandas as pd\n",
        "import numpy as np\n",
        "\n",
        "# 데이터 생성\n",
        "dates = pd.date_range(start=\"2024-01-01\", end=\"2024-12-31\", freq=\"D\").tolist()\n",
        "categories = [\"Food\", \"Transport\", \"Utilities\", \"Entertainment\", \"Health\"]\n",
        "sales = [round(x, 2) for x in np.random.uniform(10, 500, len(dates) * len(categories))]\n",
        "\n",
        "# 카테고리 반복 맞춤\n",
        "categories_repeated = categories * (len(sales) // len(categories))\n",
        "categories_repeated = categories_repeated[:len(sales)]\n",
        "\n",
        "# 데이터프레임 생성\n",
        "data = {\n",
        "    \"Date\": dates * len(categories),\n",
        "    \"Category\": categories_repeated,\n",
        "    \"Sales\": sales\n",
        "}\n",
        "df = pd.DataFrame(data)\n",
        "\n",
        "# 동일한 엑셀 파일에 저장\n",
        "output_file_path = \"transaction_data_with_pivot.xlsx\"\n",
        "\n",
        "with pd.ExcelWriter(output_file_path, engine='openpyxl') as writer:\n",
        "    # 원본 데이터 저장\n",
        "    df.to_excel(writer, index=False, sheet_name=\"Original Data\")\n",
        "\n",
        "    # 피벗 테이블 생성 및 저장\n",
        "    df[\"Month\"] = pd.to_datetime(df[\"Date\"]).dt.to_period(\"M\")\n",
        "    pivot_table = df.pivot_table(values=\"Sales\", index=\"Month\", columns=\"Category\", aggfunc=\"sum\")\n",
        "    pivot_table.to_excel(writer, sheet_name=\"Pivot Table Summary\")\n",
        "\n",
        "print(f\"파일이 저장되었습니다: {output_file_path}\")\n"
      ],
      "metadata": {
        "colab": {
          "base_uri": "https://localhost:8080/"
        },
        "id": "BX9TITxYfwPB",
        "outputId": "2c122467-efc7-4e6d-9bc8-d63e223bcd2a"
      },
      "execution_count": 5,
      "outputs": [
        {
          "output_type": "stream",
          "name": "stdout",
          "text": [
            "파일이 저장되었습니다: transaction_data_with_pivot.xlsx\n"
          ]
        }
      ]
    },
    {
      "cell_type": "markdown",
      "source": [
        "- GPT 사용의 장점:\n",
        "  - 자동화: 반복적인 데이터 입력과 계산 작업을 빠르게 수행.\n",
        "  - 효율성: 엑셀 작업 시간을 대폭 단축.\n",
        "  - 사용자 맞춤화: 데이터와 서식을 사용자가 원하는 대로 설정 가능"
      ],
      "metadata": {
        "id": "qHTybS8RfCOP"
      }
    },
    {
      "cell_type": "markdown",
      "source": [
        "## 예제 5: 데이터 시각화 포함 대시보드 생성\n",
        "- 상황: 월별 매출 데이터를 시각화하여 그래프와 함께 대시보드를 엑셀 파일로 생성해야 한다."
      ],
      "metadata": {
        "id": "GDI5q8btlEGa"
      }
    },
    {
      "cell_type": "code",
      "source": [
        "from openpyxl import Workbook\n",
        "from openpyxl.chart import BarChart, Reference\n",
        "\n",
        "# 엑셀 데이터 생성\n",
        "workbook = Workbook()\n",
        "sheet = workbook.active\n",
        "sheet.title = \"월별 매출 데이터\"\n",
        "\n",
        "# 데이터 추가\n",
        "sheet.append([\"월\", \"매출\"])\n",
        "sales_data = [\n",
        "    [\"1월\", 15000],\n",
        "    [\"2월\", 18000],\n",
        "    [\"3월\", 20000],\n",
        "    [\"4월\", 22000],\n",
        "    [\"5월\", 25000]\n",
        "]\n",
        "for row in sales_data:\n",
        "    sheet.append(row)\n",
        "\n",
        "# 차트 생성\n",
        "chart = BarChart()\n",
        "data = Reference(sheet, min_col=2, min_row=1, max_row=len(sales_data) + 1, max_col=2)\n",
        "categories = Reference(sheet, min_col=1, min_row=2, max_row=len(sales_data) + 1)\n",
        "chart.add_data(data, titles_from_data=True)\n",
        "chart.set_categories(categories)\n",
        "chart.title = \"월별 매출\"\n",
        "chart.x_axis.title = \"월\"\n",
        "chart.y_axis.title = \"매출\"\n",
        "\n",
        "# 차트를 시트에 추가\n",
        "sheet.add_chart(chart, \"E2\")\n",
        "\n",
        "# 파일 저장\n",
        "workbook.save(\"monthly_sales_dashboard.xlsx\")\n",
        "print(\"엑셀 대시보드 생성 완료!\")\n"
      ],
      "metadata": {
        "colab": {
          "base_uri": "https://localhost:8080/"
        },
        "id": "k3PQ40P6lNpS",
        "outputId": "421fea98-08e9-4a92-e88a-31143c5efba1"
      },
      "execution_count": 6,
      "outputs": [
        {
          "output_type": "stream",
          "name": "stdout",
          "text": [
            "엑셀 대시보드 생성 완료!\n"
          ]
        }
      ]
    },
    {
      "cell_type": "markdown",
      "source": [
        "## 예제 6: 복잡한 데이터 클리닝 및 분석\n",
        "- 상황: 거래 데이터가 불완전하고 누락된 값이 많아 클리닝과 분석 작업이 필요하다. 예를 들어:\n",
        "  - 누락된 값을 평균으로 대체.\n",
        "  - 날짜 범위로 데이터를 필터링.\n",
        "  - 최종 데이터 요약 및 저장."
      ],
      "metadata": {
        "id": "-3dlvw0Pl0u1"
      }
    },
    {
      "cell_type": "code",
      "source": [
        "import pandas as pd\n",
        "\n",
        "# 샘플 데이터 생성\n",
        "data = {\n",
        "    \"Date\": [\"2024-01-01\", \"2024-01-02\", None, \"2024-01-04\", \"2024-01-05\"],\n",
        "    \"Category\": [\"Food\", \"Transport\", \"Food\", None, \"Utilities\"],\n",
        "    \"Sales\": [200, None, 150, 300, None]\n",
        "}\n",
        "df = pd.DataFrame(data)\n",
        "\n",
        "# 데이터 클리닝\n",
        "df[\"Date\"] = pd.to_datetime(df[\"Date\"])  # 날짜 변환\n",
        "# 누락된 Date 항에는 Interpolate 적용\n",
        "df[\"Date\"] = df[\"Date\"].interpolate(method=\"linear\", limit_direction=\"both\")\n",
        "# Convert the interpolated values back to dates with daily frequency\n",
        "df[\"Date\"] = pd.to_datetime(df[\"Date\"].dt.floor(\"D\"))\n",
        "# df[\"Date\"] = df[\"Date\"].fillna(\"ffill\")\n",
        "# df[\"Date\"] = df[\"Date\"].fillna(\"bfill\")\n",
        "df[\"Category\"] = df[\"Category\"].fillna(\"Unknown\")  # 누락된 카테고리 채우기\n",
        "df[\"Sales\"] = df[\"Sales\"].fillna(df[\"Sales\"].mean())  # 누락된 매출 평균으로 채우기\n",
        "\n",
        "# 날짜 범위 필터링 (1월 데이터만)\n",
        "df_filtered = df[(df[\"Date\"] >= \"2024-01-01\") & (df[\"Date\"] < \"2024-02-01\")]\n",
        "\n",
        "# 최종 데이터 저장\n",
        "df_filtered.to_excel(\"cleaned_transaction_data.xlsx\", index=False)\n",
        "print(\"데이터 클리닝 및 요약 완료!\")\n"
      ],
      "metadata": {
        "colab": {
          "base_uri": "https://localhost:8080/"
        },
        "id": "0RhHLyBVmFbc",
        "outputId": "984a1695-bd9f-4e86-91d3-dcca675b1b40"
      },
      "execution_count": 7,
      "outputs": [
        {
          "output_type": "stream",
          "name": "stdout",
          "text": [
            "데이터 클리닝 및 요약 완료!\n"
          ]
        }
      ]
    },
    {
      "cell_type": "markdown",
      "source": [
        "## 예제 7: 복잡한 엑셀 템플릿 자동 생성\n",
        "- 상황: 경영팀에서 여러 부서의 KPI(Key Performance Indicator)를 관리하는 엑셀 템플릿을 만들어야 하는 경우.\n",
        "- GPT 도움:\n",
        "  - 부서별 시트 생성: 각 부서에 대해 개별 시트를 만들고 공통 KPI 양식을 설정\n",
        "  - 자동 계산 열 추가: 목표 대비 성과율(%) 자동 계산.\n",
        "  - 조건부 서식: 성과율(%)이 특정 기준 이하일 경우 색상 강조 표시.\n",
        "  - 요약 시트 추가: 모든 부서의 KPI 데이터를 종합 요약."
      ],
      "metadata": {
        "id": "Ib0DuL4EquUP"
      }
    },
    {
      "cell_type": "code",
      "source": [
        "from openpyxl import Workbook\n",
        "from openpyxl.styles import Font, PatternFill\n",
        "from openpyxl.utils import get_column_letter\n",
        "\n",
        "# 부서별 데이터 생성\n",
        "department_data = {\n",
        "    \"HR\": [\n",
        "        {\"KPI\": \"Employee Retention\", \"Target\": 95, \"Achieved\": 92},\n",
        "        {\"KPI\": \"Recruitment Time\", \"Target\": 30, \"Achieved\": 28},\n",
        "        {\"KPI\": \"Training Hours\", \"Target\": 100, \"Achieved\": 90},\n",
        "    ],\n",
        "    \"Finance\": [\n",
        "        {\"KPI\": \"Budget Accuracy\", \"Target\": 98, \"Achieved\": 97},\n",
        "        {\"KPI\": \"Cost Reduction\", \"Target\": 5, \"Achieved\": 4},\n",
        "        {\"KPI\": \"Invoice Processing Time\", \"Target\": 10, \"Achieved\": 12},\n",
        "    ],\n",
        "    \"Marketing\": [\n",
        "        {\"KPI\": \"Lead Generation\", \"Target\": 500, \"Achieved\": 450},\n",
        "        {\"KPI\": \"Social Media Engagement\", \"Target\": 10000, \"Achieved\": 9500},\n",
        "        {\"KPI\": \"Campaign ROI\", \"Target\": 150, \"Achieved\": 140},\n",
        "    ],\n",
        "    \"Sales\": [\n",
        "        {\"KPI\": \"Monthly Revenue\", \"Target\": 100000, \"Achieved\": 95000},\n",
        "        {\"KPI\": \"Customer Acquisition\", \"Target\": 50, \"Achieved\": 55},\n",
        "        {\"KPI\": \"Customer Retention\", \"Target\": 85, \"Achieved\": 80},\n",
        "    ],\n",
        "}\n",
        "\n",
        "# 엑셀 파일 생성\n",
        "workbook = Workbook()\n",
        "\n",
        "# 부서별 시트 생성\n",
        "for dept, kpi_data in department_data.items():\n",
        "    sheet = workbook.create_sheet(title=dept)\n",
        "    sheet.append([\"KPI\", \"Target\", \"Achieved\", \"Performance (%)\"])\n",
        "\n",
        "    # 데이터 추가\n",
        "    for row in kpi_data:\n",
        "        performance = (row[\"Achieved\"] / row[\"Target\"]) * 100\n",
        "        sheet.append([row[\"KPI\"], row[\"Target\"], row[\"Achieved\"], round(performance, 2)])\n",
        "\n",
        "    # 헤더 스타일링\n",
        "    for col in range(1, 5):\n",
        "        cell = sheet.cell(row=1, column=col)\n",
        "        cell.font = Font(bold=True)\n",
        "        cell.fill = PatternFill(start_color=\"FFD700\", end_color=\"FFD700\", fill_type=\"solid\")\n",
        "\n",
        "    # 열 너비 조정\n",
        "    for col in range(1, 5):\n",
        "        sheet.column_dimensions[get_column_letter(col)].width = 25\n",
        "\n",
        "    # 조건부 서식 추가 (Performance < 90%인 경우 빨간색 강조)\n",
        "    for row in range(2, len(kpi_data) + 2):\n",
        "        performance_cell = sheet.cell(row=row, column=4)\n",
        "        if performance_cell.value < 90:\n",
        "            performance_cell.fill = PatternFill(start_color=\"FF9999\", end_color=\"FF9999\", fill_type=\"solid\")\n",
        "\n",
        "# 요약 시트 생성\n",
        "summary_sheet = workbook.create_sheet(title=\"Summary\")\n",
        "summary_sheet.append([\"Department\", \"KPI\", \"Target\", \"Achieved\", \"Performance (%)\"])\n",
        "\n",
        "# 요약 데이터 추가\n",
        "for dept, kpi_data in department_data.items():\n",
        "    for row in kpi_data:\n",
        "        performance = (row[\"Achieved\"] / row[\"Target\"]) * 100\n",
        "        summary_sheet.append([dept, row[\"KPI\"], row[\"Target\"], row[\"Achieved\"], round(performance, 2)])\n",
        "\n",
        "# 기본 시트 제거\n",
        "del workbook[\"Sheet\"]\n",
        "\n",
        "# 파일 저장\n",
        "workbook.save(\"realistic_department_kpi_template.xlsx\")\n",
        "print(\"엑셀 파일 'realistic_department_kpi_template.xlsx' 생성 완료!\")\n"
      ],
      "metadata": {
        "colab": {
          "base_uri": "https://localhost:8080/"
        },
        "id": "76P5vvKaq1YH",
        "outputId": "a9b2e7b6-97f4-4cc8-e947-4bee5606939e"
      },
      "execution_count": 8,
      "outputs": [
        {
          "output_type": "stream",
          "name": "stdout",
          "text": [
            "엑셀 파일 'realistic_department_kpi_template.xlsx' 생성 완료!\n"
          ]
        }
      ]
    },
    {
      "cell_type": "markdown",
      "source": [
        "## 실습과제:"
      ],
      "metadata": {
        "id": "Gn4zSEYOes36"
      }
    },
    {
      "cell_type": "markdown",
      "source": [
        "\n",
        "- 제목: 맞춤형 데이터 활용 및 Excel 템플릿 생성\n",
        "- 목표:\n",
        "  - 데이터의 중요성을 이해하고, 직접 데이터를 생성하거나 수집한다.\n",
        "  - Python을 활용해 데이터를 처리하고, Excel 파일로 저장하는 방법을 익힌다.\n",
        "  - 현실적인 데이터를 기반으로 데이터 시각화 및 분석 과정을 경험한다.\n",
        "- 세부 내용:\n",
        "  1. 데이터 준비: 아래 두 가지 중 하나 선택\n",
        "     - 실제 데이터 수집: 공공 데이터 포털(Kaggle, 데이터.go.kr 등)에서 부서별 데이터셋을 수집. 반드시 각 부서에 맞는 고유한 KPI 데이터를 포함해야 함.\n",
        "     - 데이터 생성: 특정 시나리오(예: 신제품 출시, 직원 만족도 평가 등)를 설정하고 가상의 데이터를 작성.\n",
        "     - (*) 부서별로 고유한 KPI 포함하고 Target(목표 값)과 Achieved(달성 값)을 반드시 포함한다.\n",
        "  2. Python으로 데이터 처리 및 Excel 출력\n",
        "     - Excel 파일 생성:\n",
        "       - 각 부서에 대해 개별 시트를 생성하고 데이터를 저장.\n",
        "       - 성과율(Performance %) 계산 열 추가.\n",
        "       - 조건부 서식 적용 (성과율 90% 미만인 경우 강조 표시).\n",
        "     - 요약 시트 생성:\n",
        "       - 모든 부서 데이터를 통합한 요약 시트를 추가.\n",
        "  3. 그래프 생성 추가\n",
        "    - 각 부서의 KPI 데이터를 바탕으로 그래프를 생성한다.\n",
        "    - 그래프는 Excel 파일에 포함되며, 다음과 같은 시각적 요소를 포함해야 한다.\n",
        "      - 막대 그래프 (Bar Chart): 각 KPI의 목표(Target) 대비 달성(Achieved) 비교.\n",
        "      - 파이 차트 (Pie Chart): 성과율(Performance %)을 부서별로 비교.\n",
        "    - 그래프는 각 부서 시트에 추가한다.\n",
        "      - 막대 그래프는 해당 부서의 데이터를 나타냄.\n",
        "      - 파이 차트는 요약 시트에 추가하여 전체 부서의 성과율 비교.\n",
        "  4. 아래 GPT 활용 예제 참고 가능."
      ],
      "metadata": {
        "id": "L7zfTjOgTMUF"
      }
    },
    {
      "cell_type": "markdown",
      "source": [
        "## GPT 활용 예제 1: GPT로 데이터 생성\n",
        "- 프롬프트 예:\n",
        "```\n",
        "  Generate realistic KPI data for HR, Finance, Marketing, and\n",
        "  Sales departments. Each department should have 5 KPIs with\n",
        "  Target and Achieved values. Include performance descriptions\n",
        "  for each KPI.\n",
        "```"
      ],
      "metadata": {
        "id": "_8DNJErmLlOr"
      }
    },
    {
      "cell_type": "markdown",
      "source": [
        "## GPT 활용 예제 2: GPT로 Python 코드 생성\n",
        "- 프롬프트 예:\n",
        "  ```\n",
        "  Write Python code to create an Excel file with\n",
        "  department-specific KPI data for HR, Finance, Marketing, and\n",
        "  Sales. Include performance percentage calculations and\n",
        "  conditional formatting for cells below 90%.\"\n",
        "  ```\n"
      ],
      "metadata": {
        "id": "0hPk9mv0MD_a"
      }
    },
    {
      "cell_type": "markdown",
      "source": [
        "## GPT 활용 예제 3: GPT로 데이터 분석\n",
        "- 프롬프트 예:\n",
        "  ```\n",
        "  Analyze the following KPI data for HR, Finance, Marketing, and\n",
        "  Sales departments. Identify departments or KPIs that are\n",
        "  underperforming (performance < 90%) and suggest possible\n",
        "  actions for improvement.\n",
        "  ```\n"
      ],
      "metadata": {
        "id": "yxRRICOaM-NJ"
      }
    },
    {
      "cell_type": "markdown",
      "source": [
        "## GPT 활용 예제 4: GPT로 데이터 분석 보고서 작성하기\n",
        "- 프롬프트 예:\n",
        "  ```\n",
        "  Below is the data analysis result for the KPI performance of\n",
        "  various departments. Please generate a report summarizing the\n",
        "  key findings, identifying underperforming KPIs, and suggesting\n",
        "  possible improvements.\n",
        "\n",
        "     Data Summary:\n",
        "       o HR Department:\n",
        "         - Employee Retention: Target = 95, Achieved = 92, Performance = 96.8%\n",
        "         - Recruitment Time: Target = 30, Achieved = 28, Performance = 93.3%\n",
        "       o Sales Department:\n",
        "         ...\n",
        "  ```\n"
      ],
      "metadata": {
        "id": "xAweEEsjNvDy"
      }
    },
    {
      "cell_type": "markdown",
      "source": [
        "## GPT 활용 예제 5: GPT로 데이터 분석 그래프 그리기\n",
        "- 프롬프트 예:\n",
        "  - 단일 부서 데이터로 막대 그래프\n",
        "   ```\n",
        "   Generate Python code to create a bar chart using matplotlib\n",
        "   for the following data:\n",
        "   - Department: HR\n",
        "   - KPI Data:\n",
        "     - Employee Retention: Target = 95, Achieved = 92\n",
        "     - Recruitment Time: Target = 30, Achieved = 28\n",
        "     - Training Hours: Target = 100, Achieved = 90\n",
        "\n",
        "   The bar chart should compare Target and Achieved values for each KPI.\n",
        "```\n",
        "  - 부서별 성과율을 비교하는 파이 차트\n",
        "```\n",
        "   Generate Python code to create a pie chart comparing the\n",
        "   performance percentage of the following departments:\n",
        "     - HR: 93%\n",
        "     - Finance: 96%\n",
        "     - Marketing: 89%\n",
        "     - Sales: 92%\n",
        "\n",
        "   The pie chart should include percentage labels for each department.\n",
        "```\n",
        "  - 요약 데이터를 사용해 복합 그래프 생성\n",
        "```\n",
        "  Generate Python code to create a combination chart using\n",
        "  matplotlib. The chart should include:\n",
        "    1. A bar chart showing the achieved values for each KPI in the \"Finance\" department.\n",
        "    2. A line chart overlay showing the target values for the same KPIs.\n",
        "  KPI Data:\n",
        "    - Budget Accuracy: Target = 98, Achieved = 97\n",
        "    - Cost Reduction: Target = 5, Achieved = 4\n",
        "    - Invoice Processing Time: Target = 10, Achieved = 12\n",
        "```\n"
      ],
      "metadata": {
        "id": "C8JrQfClQFrx"
      }
    },
    {
      "cell_type": "markdown",
      "source": [
        "--------------------------------------------------"
      ],
      "metadata": {
        "id": "NNv2iXPWPI6_"
      }
    }
  ]
}