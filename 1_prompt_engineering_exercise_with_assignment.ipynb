{
  "nbformat": 4,
  "nbformat_minor": 0,
  "metadata": {
    "colab": {
      "provenance": [],
      "toc_visible": true,
      "authorship_tag": "ABX9TyMAZgKCq4siCwj3dqqYuo8H",
      "include_colab_link": true
    },
    "kernelspec": {
      "name": "python3",
      "display_name": "Python 3"
    },
    "language_info": {
      "name": "python"
    }
  },
  "cells": [
    {
      "cell_type": "markdown",
      "metadata": {
        "id": "view-in-github",
        "colab_type": "text"
      },
      "source": [
        "<a href=\"https://colab.research.google.com/github/rtajeong/ChatGPT_for_Management/blob/main/1_prompt_engineering_exercise_with_assignment.ipynb\" target=\"_parent\"><img src=\"https://colab.research.google.com/assets/colab-badge.svg\" alt=\"Open In Colab\"/></a>"
      ]
    },
    {
      "cell_type": "markdown",
      "source": [
        "# 강좌 소개\n",
        "- 예상 스케줄:\n",
        "  - Day 1: GPT 기본 개념과 프롬프트 엔지니어링\n",
        "  - Day 2: RAG (Retrieval-Augmented Generation)\n",
        "  - Day 3: 주가 예측과 실습 프로젝트"
      ],
      "metadata": {
        "id": "uZrzv1WRFcII"
      }
    },
    {
      "cell_type": "markdown",
      "source": [
        "# Prompt Engineering guides\n",
        "- https://platform.openai.com/docs/guides/prompt-engineering\n",
        "- Six strategies for getting bettwe results:\n",
        "  - write clear instructions\n",
        "  - Provide reference text\n",
        "  - Split complex tasks into simpler subtasks\n",
        "  - Give the model time to \"think\"\n",
        "  - Use external tools\n",
        "  - Test changes systematically"
      ],
      "metadata": {
        "id": "-A2e_eK4RRIL"
      }
    },
    {
      "cell_type": "markdown",
      "source": [
        "# Prompt Engineering for Management Students"
      ],
      "metadata": {
        "id": "N4irsn5vkv3F"
      }
    },
    {
      "cell_type": "markdown",
      "source": [
        "1. 명확하고 구체적으로 질문하기\n",
        "  - GPT는 구체적인 정보를 더 잘 이해하고 응답한다. 원하는 결과나 정보를 명확히 정의하는 게 좋다.\n",
        "  - 예:\n",
        "    - \"회계 원가 계산의 기본 개념을 설명해 주세요.\"\n",
        "    - \"특정 산업의 SWOT 분석 예시를 보여주세요.\"\n",
        "2. 컨텍스트를 포함하기\n",
        "  - GPT가 질문의 맥락을 더 잘 이해하도록 배경 정보를 제공한다.\n",
        "  - 예:\n",
        "    - \"중소기업의 마케팅 전략 수립 시 유용한 방법론을 추천해 주세요.\"\n",
        "    - \"경영학 입문 수업에서 학생들이 이해하기 쉽게 BCG 매트릭스를 설명하려면 어떻게 하면 될까요?\"\n",
        "3. 형식을 지정하기\n",
        "  - 특정 형식(표, 리스트, 보고서 등)을 요구하면 GPT가 더 체계적으로 응답한다.\n",
        "  - 예:\n",
        "    - \"포터의 5가지 경쟁요소 모델을 표 형식으로 정리해 주세요.\"\n",
        "    - \"소셜미디어 광고 캠페인 전략을 5단계로 나누어 설명해 주세요.\"\n",
        "4. 추가적인 역할을 부여하기\n",
        "  - GPT를 특정 역할로 설정하면 더 실무적으로 유용한 답을 얻을 수 있다.\n",
        "  - 예:\n",
        "    - \"당신은 마케팅 컨설턴트입니다. 신생 스타트업의 초기 마케팅 전략을 제안해 주세요.\"\n",
        "    - \"회계 전문가로서, 재무제표 분석에서 주의해야 할 점 5가지를 설명해 주세요.\"\n",
        "5. 단계별로 질문하기\n",
        "  - 복잡한 문제는 단계별로 쪼개서 질문하면 더 나은 결과를 얻을 수 있다.\n",
        "  - 예:\n",
        "    - \"BCG 매트릭스란 무엇인가요?\"\n",
        "    - \"BCG 매트릭스를 활용한 사례를 알려 주세요.\"\n",
        "    - \"이 사례를 적용할 때 장단점을 설명해 주세요.\"\n",
        "6. 적극적인 검토와 수정\n",
        "  - 첫 응답이 만족스럽지 않다면 다시 질문하거나 구체적으로 추가 요구를 하면 된다.\n",
        "  - 예:\n",
        "    - \"더 구체적인 예시를 들어 주세요.\"\n",
        "    - \"이 내용을 경영학 입문 수업용으로 간단히 요약해 주세요.\""
      ],
      "metadata": {
        "id": "wY95OAdtnpA3"
      }
    },
    {
      "cell_type": "markdown",
      "source": [
        "# Examples\n"
      ],
      "metadata": {
        "id": "3Yyfe4vEkppL"
      }
    },
    {
      "cell_type": "markdown",
      "source": [
        "- 사례 1: 경영 전략\n",
        "  - 프롬프트: \"스타벅스의 글로벌 확장 전략 사례를 SWOT 분석으로 요약해 주세요. 강점, 약점, 기회, 위협을 각각 두 가지씩 작성해 주세요.\"\n",
        "\n",
        "- 사례 2: 재무 분석\n",
        "  - 프롬프트: \"삼성전자 2023년 재무제표를 가정하고, 주요 재무 비율(유동비율, 부채비율, 순이익률)을 계산한 후 이를 해석해 주세요.\"\n",
        "\n",
        "- 사례 3: 마케팅 캠페인\n",
        "  - 프롬프트: \"소셜미디어를 활용한 제품 출시 캠페인을 계획 중입니다. 3단계로 실행 가능한 마케팅 전략을 제안해 주세요.\"\n",
        "\n",
        "- 사례 4: HR 관리\n",
        "  - 프롬프트: \"직원 이직률을 줄이기 위한 효과적인 방법 5가지를 제안해 주세요.\"\n",
        "\n",
        "- 사례 5: 엑셀 활용\n",
        "  - 프롬프트: \"매출 데이터를 기반으로 월별 매출 추이를 시각화하고, 상위 5개 제품의 기여도를 분석하는 엑셀 작업을 설명해 주세요.\""
      ],
      "metadata": {
        "id": "-KcZFSCHox4b"
      }
    },
    {
      "cell_type": "markdown",
      "source": [
        "# Assignment 1: 경영 전략\n",
        "\n",
        "- 목표:\n",
        "  - GPT 프롬프트 작성법을 이해하고 문제 해결에 필요한 적합한 프롬프트를 직접 설계한다.\n",
        "- 예상 진행:\n",
        "  - 과제 이해 및 문제 해결을 위한 프롬프트 작성 및 결과 도출 (45분)\n",
        "  - 문서 정리 및 제출 (15분)\n",
        "- 제출물: 문제 해결 과정을 문서로 작성 (A4 3~5 페이지 분량):\n",
        "  - (1) 문제 설명\n",
        "  - (2) 작성한 프롬프트\n",
        "  - (3) GPT의 응답\n",
        "  - (4) 결과 해석 및 추가 개선 방안\n",
        "\n",
        "- 주제: 경영 전략\n",
        "  - 상황: A 기업은 디지털 전환을 추진하고 있다. 기존 오프라인 매출이 감소하고 온라인 비즈니스의 비중을 확대해야 하는 과제가 있다.\n",
        "  - 과제:\n",
        "    - GPT를 활용해 A 기업이 성공적으로 디지털 전환을 수행하기 위한 3단계 전략을 제안해 보시오.\n",
        "    - 본인의 프롬프트 작성 과정을 문서화하고 결과를 해석하시오.\n"
      ],
      "metadata": {
        "id": "iKQLAeJOru6x"
      }
    },
    {
      "cell_type": "markdown",
      "source": [
        "# Assignment 2: 인텔과 삼성전자의 최근 상황에 대한 분석과 대안 제시\n",
        "\n",
        "- 과제 목표:\n",
        "  - 기업 환경 분석: 인텔과 삼성전자가 직면한 최근 문제의 배경과 원인을 파악한다.\n",
        "  - 전략적 사고 훈련: 문제 해결을 위한 창의적이고 실현 가능한 대안을 제안한다.\n",
        "  - 보고서 작성 능력 강화: 기업 사례 분석과 대안 제시를 체계적으로 정리한다.\n",
        "\n",
        "- 배경:\n",
        "  - 최근 인텔(Intel)과 삼성전자(Samsung Electronics)와 같은 초거대 기업들은 반도체 시장의 경쟁 심화, 공급망 문제, 기술 혁신의 부담 등으로 인해 성장 정체 및 어려움을 겪고 있다. 이들의 사례를 바탕으로 문제를 분석하고 해결 방안을 제안하는 보고서를 작성하고자 한다.\n",
        "\n",
        "- 주제: \"초거대 기술 기업의 위기 원인과 관리 방: 인텔과 삼성전자의 사례 분석 및 해결 방안\"\n",
        "\n",
        "- 보고서 작성 요구사항\n",
        "  - 구성: A4 3~5 페이지 분\n",
        "     - 서론: 기업 및 산업 배경\n",
        "     - 본론:\n",
        "       - (1) 최근 어려움의 원인 분석\n",
        "           - 경제적, 기술적, 산업적 요인\n",
        "           - 경쟁 구도 및 시장 변화\n",
        "           - 거버넌스, 전략, 정치적 요인\n",
        "       - (2) 주요 문제점 정리\n",
        "           - 공급망 관리, 기술 혁신 속도, 수익성 압박 등\n",
        "     - 결론 및 대안:\n",
        "       - 구체적이고 실현 가능한 해결 방안 제시 (예: 기술 개발 전략, 신사업 진출, 공급망 재설계)\n",
        "       - 예상되는 결과와 기대 효과"
      ],
      "metadata": {
        "id": "dkDMDdbKvWbK"
      }
    },
    {
      "cell_type": "markdown",
      "source": [
        "-------------------------------------------------------------------"
      ],
      "metadata": {
        "id": "2n73NkBjr2g1"
      }
    }
  ]
}