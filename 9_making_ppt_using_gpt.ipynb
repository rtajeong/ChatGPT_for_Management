{
  "nbformat": 4,
  "nbformat_minor": 0,
  "metadata": {
    "colab": {
      "provenance": [],
      "authorship_tag": "ABX9TyN7whnXM60pqaeyHIldMQV0",
      "include_colab_link": true
    },
    "kernelspec": {
      "name": "python3",
      "display_name": "Python 3"
    },
    "language_info": {
      "name": "python"
    }
  },
  "cells": [
    {
      "cell_type": "markdown",
      "metadata": {
        "id": "view-in-github",
        "colab_type": "text"
      },
      "source": [
        "<a href=\"https://colab.research.google.com/github/rtajeong/ChatGPT_for_Management/blob/main/9_making_ppt_using_gpt.ipynb\" target=\"_parent\"><img src=\"https://colab.research.google.com/assets/colab-badge.svg\" alt=\"Open In Colab\"/></a>"
      ]
    },
    {
      "cell_type": "markdown",
      "source": [
        "# 파워포인트 파일을 만들기 위한 GPT\n",
        "- 경영학과 학생을 위한 응용 예\n",
        "- 목표:\n",
        "  - 데이터를 기반으로 중요한 분석 결과를 PowerPoint 슬라이드에 시각적으로 표현.\n",
        "  - GPT의 도움을 받아 슬라이드 내용을 자동 생성하거나 보완.\n",
        "  - Python의 python-pptx 라이브러리를 사용해 슬라이드 파일을 자동 생성."
      ],
      "metadata": {
        "id": "JwkuF2hTS0E_"
      }
    },
    {
      "cell_type": "markdown",
      "source": [
        "--------------------------------------------------"
      ],
      "metadata": {
        "id": "NNv2iXPWPI6_"
      }
    },
    {
      "cell_type": "markdown",
      "source": [
        "## 예제 1: Python 코드로 PowerPoint 파일 생성"
      ],
      "metadata": {
        "id": "jE_5xNVUTmoN"
      }
    },
    {
      "cell_type": "code",
      "source": [
        "!pip install python-pptx"
      ],
      "metadata": {
        "colab": {
          "base_uri": "https://localhost:8080/"
        },
        "id": "2Bxtu331UCcA",
        "outputId": "fcaea6a7-3f64-454e-fc70-a337ba6bd39c"
      },
      "execution_count": 1,
      "outputs": [
        {
          "output_type": "stream",
          "name": "stdout",
          "text": [
            "Collecting python-pptx\n",
            "  Downloading python_pptx-1.0.2-py3-none-any.whl.metadata (2.5 kB)\n",
            "Requirement already satisfied: Pillow>=3.3.2 in /usr/local/lib/python3.10/dist-packages (from python-pptx) (11.1.0)\n",
            "Collecting XlsxWriter>=0.5.7 (from python-pptx)\n",
            "  Downloading XlsxWriter-3.2.0-py3-none-any.whl.metadata (2.6 kB)\n",
            "Requirement already satisfied: lxml>=3.1.0 in /usr/local/lib/python3.10/dist-packages (from python-pptx) (5.3.0)\n",
            "Requirement already satisfied: typing-extensions>=4.9.0 in /usr/local/lib/python3.10/dist-packages (from python-pptx) (4.12.2)\n",
            "Downloading python_pptx-1.0.2-py3-none-any.whl (472 kB)\n",
            "\u001b[2K   \u001b[90m━━━━━━━━━━━━━━━━━━━━━━━━━━━━━━━━━━━━━━━━\u001b[0m \u001b[32m472.8/472.8 kB\u001b[0m \u001b[31m6.4 MB/s\u001b[0m eta \u001b[36m0:00:00\u001b[0m\n",
            "\u001b[?25hDownloading XlsxWriter-3.2.0-py3-none-any.whl (159 kB)\n",
            "\u001b[2K   \u001b[90m━━━━━━━━━━━━━━━━━━━━━━━━━━━━━━━━━━━━━━━━\u001b[0m \u001b[32m159.9/159.9 kB\u001b[0m \u001b[31m4.9 MB/s\u001b[0m eta \u001b[36m0:00:00\u001b[0m\n",
            "\u001b[?25hInstalling collected packages: XlsxWriter, python-pptx\n",
            "Successfully installed XlsxWriter-3.2.0 python-pptx-1.0.2\n"
          ]
        }
      ]
    },
    {
      "cell_type": "code",
      "source": [
        "from pptx import Presentation\n",
        "from pptx.util import Inches\n",
        "\n",
        "# 데이터 준비\n",
        "data = {\n",
        "    \"Department\": [\"HR\", \"Finance\", \"Marketing\", \"Sales\"],\n",
        "    \"Performance\": [93, 96, 89, 92]\n",
        "}\n",
        "\n",
        "# PowerPoint 프레젠테이션 생성\n",
        "presentation = Presentation()\n",
        "\n",
        "# 1. 제목 슬라이드\n",
        "title_slide_layout = presentation.slide_layouts[0]\n",
        "slide = presentation.slides.add_slide(title_slide_layout)\n",
        "slide.shapes.title.text = \"KPI Performance Analysis\"\n",
        "slide.placeholders[1].text = \"Submitted by: [Your Name]\"\n",
        "\n",
        "# 2. 데이터 설명 슬라이드\n",
        "data_slide_layout = presentation.slide_layouts[1]\n",
        "slide = presentation.slides.add_slide(data_slide_layout)\n",
        "slide.shapes.title.text = \"Data Overview\"\n",
        "content = slide.placeholders[1]\n",
        "content.text = (\n",
        "    \"The analysis is based on the KPI data of four departments:\\n\"\n",
        "    \"- HR\\n- Finance\\n- Marketing\\n- Sales\"\n",
        ")\n",
        "\n",
        "# 3. 분석 결과 슬라이드\n",
        "result_slide_layout = presentation.slide_layouts[1]\n",
        "slide = presentation.slides.add_slide(result_slide_layout)\n",
        "slide.shapes.title.text = \"Analysis Results\"\n",
        "content = slide.placeholders[1]\n",
        "content.text = \"Key findings:\\n- HR performed above expectations.\\n- Marketing needs improvement.\\n\"\n",
        "\n",
        "# 4. 결론 및 제안 슬라이드\n",
        "conclusion_slide_layout = presentation.slide_layouts[1]\n",
        "slide = presentation.slides.add_slide(conclusion_slide_layout)\n",
        "slide.shapes.title.text = \"Conclusion and Recommendations\"\n",
        "content = slide.placeholders[1]\n",
        "content.text = (\n",
        "    \"Recommendations:\\n\"\n",
        "    \"- Focus on improving Marketing performance.\\n\"\n",
        "    \"- Maintain strong performance in HR and Finance.\"\n",
        ")\n",
        "\n",
        "# 파일 저장\n",
        "presentation.save(\"kpi_performance_presentation.pptx\")\n",
        "print(\"PowerPoint 파일 'kpi_performance_presentation.pptx' 생성 완료!\")\n"
      ],
      "metadata": {
        "colab": {
          "base_uri": "https://localhost:8080/"
        },
        "id": "S2v1TudnTxcU",
        "outputId": "94fc681f-9c21-49c5-85c0-e7630e97dab1"
      },
      "execution_count": 2,
      "outputs": [
        {
          "output_type": "stream",
          "name": "stdout",
          "text": [
            "PowerPoint 파일 'kpi_performance_presentation.pptx' 생성 완료!\n"
          ]
        }
      ]
    },
    {
      "cell_type": "code",
      "source": [
        "from pptx import Presentation\n",
        "from pptx.util import Inches\n",
        "from pptx.chart.data import CategoryChartData\n",
        "from pptx.enum.chart import XL_CHART_TYPE, XL_LEGEND_POSITION\n",
        "\n",
        "# PowerPoint 프레젠테이션 생성\n",
        "presentation = Presentation()\n",
        "\n",
        "# 1. 제목 슬라이드\n",
        "title_slide_layout = presentation.slide_layouts[0]\n",
        "slide = presentation.slides.add_slide(title_slide_layout)\n",
        "slide.shapes.title.text = \"Financial Performance Report\"\n",
        "slide.placeholders[1].text = \"Submitted by: [Student Name]\\nDate: [Submission Date]\"\n",
        "\n",
        "# 2. 재무 데이터 요약 슬라이드\n",
        "data_slide_layout = presentation.slide_layouts[1]\n",
        "slide = presentation.slides.add_slide(data_slide_layout)\n",
        "slide.shapes.title.text = \"Financial Overview\"\n",
        "content = slide.placeholders[1]\n",
        "content.text = (\n",
        "    \"Key Metrics:\\n\"\n",
        "    \"- Revenue: $1,000,000\\n\"\n",
        "    \"- Expenses: $750,000\\n\"\n",
        "    \"- Net Profit: $250,000\\n\"\n",
        "    \"- Profit Margin: 25%\"\n",
        ")\n",
        "\n",
        "# 3. 차트 슬라이드\n",
        "chart_slide_layout = presentation.slide_layouts[5]\n",
        "slide = presentation.slides.add_slide(chart_slide_layout)\n",
        "slide.shapes.title.text = \"Revenue and Expenses Comparison\"\n",
        "\n",
        "# 차트 데이터\n",
        "chart_data = CategoryChartData()\n",
        "chart_data.categories = [\"Q1\", \"Q2\", \"Q3\", \"Q4\"]\n",
        "chart_data.add_series(\"Revenue\", (250000, 300000, 200000, 250000))\n",
        "chart_data.add_series(\"Expenses\", (200000, 250000, 150000, 200000))\n",
        "\n",
        "# 차트 추가\n",
        "x, y, cx, cy = Inches(2), Inches(2), Inches(6), Inches(4)\n",
        "chart = slide.shapes.add_chart(\n",
        "    XL_CHART_TYPE.COLUMN_CLUSTERED, x, y, cx, cy, chart_data\n",
        ").chart\n",
        "\n",
        "# 차트 스타일 설정\n",
        "chart.has_legend = True\n",
        "chart.legend.position = XL_LEGEND_POSITION.BOTTOM\n",
        "\n",
        "# 4. 결론 슬라이드\n",
        "conclusion_slide_layout = presentation.slide_layouts[1]\n",
        "slide = presentation.slides.add_slide(conclusion_slide_layout)\n",
        "slide.shapes.title.text = \"Conclusion and Recommendations\"\n",
        "content = slide.placeholders[1]\n",
        "content.text = (\n",
        "    \"Summary:\\n\"\n",
        "    \"- Revenue exceeded expenses by 25%.\\n\"\n",
        "    \"- Focus on reducing unnecessary expenses to improve profit margins further.\\n\"\n",
        ")\n",
        "\n",
        "# PowerPoint 파일 저장\n",
        "presentation.save(\"financial_performance_report.pptx\")\n",
        "print(\"PowerPoint 파일 'financial_performance_report.pptx' 생성 완료!\")\n"
      ],
      "metadata": {
        "colab": {
          "base_uri": "https://localhost:8080/"
        },
        "id": "PbnNwOyUc5YN",
        "outputId": "274495c6-f4d0-4a91-cbbd-7f3e174a3538"
      },
      "execution_count": 3,
      "outputs": [
        {
          "output_type": "stream",
          "name": "stdout",
          "text": [
            "PowerPoint 파일 'financial_performance_report.pptx' 생성 완료!\n"
          ]
        }
      ]
    },
    {
      "cell_type": "markdown",
      "source": [
        "## 예제 2: GPT 활용\n",
        "- 프롬프트 예:\n",
        "\n",
        "  "
      ],
      "metadata": {
        "id": "70hO9vSKVwKz"
      }
    },
    {
      "cell_type": "markdown",
      "source": [
        "```\n",
        "Create content for a PowerPoint presentation titled\n",
        "\"Financial Performance Analysis.\"\n",
        "\n",
        "The presentation should include the following slides:\n",
        "1. **Title Slide**:\n",
        "   - Include the title \"Financial Performance Analysis.\"\n",
        "   - Add placeholders for \"Submitted by: [Your Name]\" and \"Date: [Submission Date].\"\n",
        "\n",
        "2. **Data Overview Slide**:\n",
        "   - Summarize the following financial data:\n",
        "     - Revenue: $1,000,000\n",
        "     - Expenses: $750,000\n",
        "     - Net Profit: $250,000\n",
        "     - Profit Margin: 25%.\n",
        "\n",
        "3. **Analysis Results Slide**:\n",
        "   - Provide insights based on the financial data:\n",
        "     - Highlight that revenue exceeded expenses by 25%.\n",
        "     - Emphasize that the net profit margin indicates strong performance.\n",
        "\n",
        "4. **Conclusion and Recommendations Slide**:\n",
        "   - Summarize the findings.\n",
        "   - Include recommendations for improving financial performance:\n",
        "     - Maintain current revenue levels.\n",
        "     - Reduce unnecessary expenses.\n",
        "     - Explore new revenue streams.\n",
        "\n",
        "Format the response so that each slide's content is clearly\n",
        "separated for easy implementation in PowerPoint.\n",
        "```\n"
      ],
      "metadata": {
        "id": "ofvUH5YBfUJl"
      }
    },
    {
      "cell_type": "markdown",
      "source": [
        "```\n",
        "Create a PowerPoint presentation titled \"Financial\n",
        "Performance Analysis\" with the following slides:\n",
        "\n",
        "1. Title Slide: Include the title, author name, and date.\n",
        "2. Data Overview Slide: Summarize the provided financial data.\n",
        "3. Analysis Results Slide: Highlight key findings.\n",
        "4. Conclusion and Recommendations Slide: Summarize and\n",
        "provide actionable recommendations.\n",
        "```"
      ],
      "metadata": {
        "id": "EdzS0ny7lsxr"
      }
    },
    {
      "cell_type": "markdown",
      "source": [
        "---------------------------------------------------"
      ],
      "metadata": {
        "id": "-dztHlSHf7g-"
      }
    }
  ]
}